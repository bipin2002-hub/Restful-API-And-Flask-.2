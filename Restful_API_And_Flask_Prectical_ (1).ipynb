{
  "cells": [
    {
      "cell_type": "markdown",
      "metadata": {
        "id": "-pWYsA0UQ237"
      },
      "source": [
        "# Restful API And Flask Practical Assignment\n",
        "\n",
        "---"
      ]
    },
    {
      "cell_type": "markdown",
      "metadata": {
        "id": "NDp-9xpDQ20b"
      },
      "source": [
        "1. How do you create a basic Flask application?\n",
        "\n",
        "\n",
        "\n",
        "\n"
      ]
    },
    {
      "cell_type": "code",
      "execution_count": 1,
      "metadata": {
        "colab": {
          "base_uri": "https://localhost:8080/"
        },
        "id": "JoWfgtu0Qu3X",
        "outputId": "29aaacdf-ecc0-49ec-ced7-414681d0cd2d"
      },
      "outputs": [
        {
          "output_type": "stream",
          "name": "stdout",
          "text": [
            " * Serving Flask app '__main__'\n",
            " * Debug mode: on\n"
          ]
        },
        {
          "output_type": "stream",
          "name": "stderr",
          "text": [
            "INFO:werkzeug:\u001b[31m\u001b[1mWARNING: This is a development server. Do not use it in a production deployment. Use a production WSGI server instead.\u001b[0m\n",
            " * Running on http://127.0.0.1:5000\n",
            "INFO:werkzeug:\u001b[33mPress CTRL+C to quit\u001b[0m\n",
            "INFO:werkzeug: * Restarting with stat\n"
          ]
        }
      ],
      "source": [
        "from flask import Flask\n",
        "\n",
        "# Create an instance of the Flask class\n",
        "app = Flask(__name__)\n",
        "\n",
        "# Define a route for the root URL ('/')\n",
        "@app.route(\"/\")\n",
        "def hello_world():\n",
        "    return \"<p>Hello, World!</p>\"\n",
        "\n",
        "# Run the application\n",
        "if __name__ == \"__main__\":\n",
        "    app.run(debug=True)"
      ]
    },
    {
      "cell_type": "markdown",
      "metadata": {
        "id": "aKL4y9lURgsv"
      },
      "source": [
        "2. How do you serve static files like images or CSS in Flask?\n"
      ]
    },
    {
      "cell_type": "code",
      "execution_count": null,
      "metadata": {
        "id": "d1KPu8EBRLhy",
        "colab": {
          "base_uri": "https://localhost:8080/"
        },
        "outputId": "c4846c16-ec44-45d1-f755-bd511233928c"
      },
      "outputs": [
        {
          "output_type": "stream",
          "name": "stdout",
          "text": [
            " * Serving Flask app '__main__'\n",
            " * Debug mode: on\n"
          ]
        },
        {
          "output_type": "stream",
          "name": "stderr",
          "text": [
            "INFO:werkzeug:\u001b[31m\u001b[1mWARNING: This is a development server. Do not use it in a production deployment. Use a production WSGI server instead.\u001b[0m\n",
            " * Running on http://127.0.0.1:5000\n",
            "INFO:werkzeug:\u001b[33mPress CTRL+C to quit\u001b[0m\n",
            "INFO:werkzeug: * Restarting with stat\n"
          ]
        }
      ],
      "source": [
        "from flask import Flask, render_template\n",
        "\n",
        "app = Flask(__name__)\n",
        "\n",
        "@app.route('/')\n",
        "def index():\n",
        "    return render_template('index.html')\n",
        "\n",
        "if __name__ == '__main__':\n",
        "    app.run(debug=True)\n"
      ]
    },
    {
      "cell_type": "markdown",
      "metadata": {
        "id": "hESTeYmhSnNG"
      },
      "source": [
        "3. How do you define different routes with different HTTP methods in Flask\n"
      ]
    },
    {
      "cell_type": "code",
      "execution_count": null,
      "metadata": {
        "id": "AYE27ui2Szq_"
      },
      "outputs": [],
      "source": [
        "from flask import Flask, request\n",
        "\n",
        "app = Flask(__name__)\n",
        "\n",
        "# Route accepting only GET (default)\n",
        "@app.route('/hello')\n",
        "def hello():\n",
        "    return \"Hello, GET request!\"\n",
        "\n",
        "# Route accepting POST requests\n",
        "@app.route('/submit', methods=['POST'])\n",
        "def submit():\n",
        "    data = request.form.get('data')  # or request.get_json() for JSON payload\n",
        "    return f\"Data received: {data}\"\n",
        "\n",
        "# Route accepting both GET and POST requests\n",
        "@app.route('/form', methods=['GET', 'POST'])\n",
        "def form():\n",
        "    if request.method == 'POST':\n",
        "        return \"Form submitted via POST\"\n",
        "    else:\n",
        "        return \"Display form via GET\"\n",
        "\n",
        "if __name__ == '__main__':\n",
        "    app.run(debug=True)"
      ]
    },
    {
      "cell_type": "markdown",
      "metadata": {
        "id": "q2FY_5LKS2f4"
      },
      "source": [
        "4. How do you render HTML templates in Flask?\n"
      ]
    },
    {
      "cell_type": "code",
      "execution_count": null,
      "metadata": {
        "id": "F_2zGnSDS8x9"
      },
      "outputs": [],
      "source": [
        "from flask import Flask, render_template\n",
        "\n",
        "app = Flask(__name__)\n",
        "\n",
        "@app.route(\"/\")\n",
        "def index():\n",
        "    return render_template(\"index.html\")\n",
        "\n",
        "if __name__ == \"__main__\":\n",
        "    app.run(debug=True)\n"
      ]
    },
    {
      "cell_type": "markdown",
      "metadata": {
        "id": "Fmyco42RVmPK"
      },
      "source": [
        "5. How can you generate URLs for routes in Flask using url_for?\n"
      ]
    },
    {
      "cell_type": "code",
      "execution_count": null,
      "metadata": {
        "id": "EFWfcR9WS2Ea"
      },
      "outputs": [],
      "source": [
        "from flask import Flask, url_for\n",
        "\n",
        "app = Flask(__name__)\n",
        "\n",
        "@app.route('/')\n",
        "def home():\n",
        "    return \"Home Page\"\n",
        "\n",
        "@app.route('/user/<username>')\n",
        "def profile(username):\n",
        "    return f\"Profile page of {username}\"\n",
        "\n",
        "with app.test_request_context():\n",
        "    print(url_for('home'))\n",
        "    print(url_for('profile', username='alice'))"
      ]
    },
    {
      "cell_type": "markdown",
      "metadata": {
        "id": "ErkCowAmWMyG"
      },
      "source": [
        "6. How do you handle forms in Flask\n"
      ]
    },
    {
      "cell_type": "code",
      "source": [
        "from flask import Flask, render_template, request, redirect, url_for, flash\n",
        "\n",
        "app = Flask(__name__)\n",
        "app.secret_key = 'your_secret_key'  # Required for flash messages\n",
        "\n",
        "@app.route('/contact', methods=['GET', 'POST'])\n",
        "def contact():\n",
        "    if request.method == 'POST':\n",
        "        # Get data from the form\n",
        "        name = request.form.get('name')\n",
        "        email = request.form.get('email')\n",
        "\n",
        "        # Basic validation\n",
        "        if not name or not email:\n",
        "            flash('Please fill out all fields.')\n",
        "            return redirect(url_for('contact'))\n",
        "\n",
        "        # Process form data (e.g., save to database, send email)\n",
        "        flash(f'Thank you, {name}! Your email {email} has been received.')\n",
        "        return redirect(url_for('contact'))\n",
        "\n",
        "    # If GET request, just render the form\n",
        "    return render_template('form.html')\n",
        "\n",
        "if __name__ == '__main__':\n",
        "    app.run(debug=True)\n"
      ],
      "metadata": {
        "id": "BCYo6uwaj_sJ"
      },
      "execution_count": null,
      "outputs": []
    },
    {
      "cell_type": "markdown",
      "metadata": {
        "id": "TjV68wIkXLMF"
      },
      "source": [
        "7. How can you validate form data in Flask?\n"
      ]
    },
    {
      "cell_type": "code",
      "execution_count": null,
      "metadata": {
        "id": "SI_zKwcyYdjy"
      },
      "outputs": [],
      "source": [
        "from flask import Flask, render_template, redirect, url_for, flash\n",
        "from flask_wtf import FlaskForm\n",
        "from wtforms import StringField, TextAreaField\n",
        "from wtforms.validators import DataRequired, Email, Length\n",
        "\n",
        "app = Flask(__name__)\n",
        "app.secret_key = 'your_secret_key'  # Required for CSRF protection\n",
        "\n",
        "# Define a form with validation\n",
        "class ContactForm(FlaskForm):\n",
        "    name = StringField('Name', validators=[DataRequired(), Length(min=2, max=50)])\n",
        "    email = StringField('Email', validators=[DataRequired(), Email()])\n",
        "    message = TextAreaField('Message', validators=[DataRequired(), Length(min=10)])\n",
        "\n",
        "@app.route('/contact', methods=['GET', 'POST'])\n",
        "def contact():\n",
        "    form = ContactForm()\n",
        "    if form.validate_on_submit():\n",
        "        # Access validated data\n",
        "        name = form.name.data\n",
        "        email = form.email.data\n",
        "        message = form.message.data\n",
        "\n",
        "        # Process form data here (e.g. save or send email)\n",
        "        flash('Thank you for your message!', 'success')\n",
        "        return redirect(url_for('contact'))\n",
        "\n",
        "    return render_template('contact.html', form=form)\n",
        "\n",
        "if __name__ == '__main__':\n",
        "    app.run(debug=True)"
      ]
    },
    {
      "cell_type": "markdown",
      "metadata": {
        "id": "aU-9rxXRYx1B"
      },
      "source": [
        "8. How do you manage sessions in Flask?\n",
        "\n"
      ]
    },
    {
      "cell_type": "code",
      "source": [
        "# python Code\n",
        "from flask import Flask, session, redirect, url_for, request, render_template\n",
        "\n",
        "app = Flask(__name__)\n",
        "app.secret_key = b'some_random_secret_key'  # Replace with a strong secret key\n",
        "\n",
        "@app.route('/')\n",
        "def index():\n",
        "    if 'username' in session:\n",
        "        return f'Hello, {session[\"username\"]}! <br><a href=\"/logout\">Logout</a>'\n",
        "    else:\n",
        "        return redirect(url_for('login'))\n",
        "\n",
        "@app.route('/login', methods=['GET', 'POST'])\n",
        "def login():\n",
        "    if request.method == 'POST':\n",
        "        session['username'] = request.form['username']\n",
        "        return redirect(url_for('index'))\n",
        "    return render_template('login.html')\n",
        "\n",
        "@app.route('/logout')\n",
        "def logout():\n",
        "    session.pop('username', None)\n",
        "    return redirect(url_for('login'))\n",
        "\n",
        "if __name__ == '__main__':\n",
        "    app.run(debug=True)"
      ],
      "metadata": {
        "id": "TZ4vpJR-eAWA"
      },
      "execution_count": null,
      "outputs": []
    },
    {
      "cell_type": "markdown",
      "metadata": {
        "id": "9qJwH7OrSreB"
      },
      "source": [
        "9. How do you redirect to a different route in Flask\n"
      ]
    },
    {
      "cell_type": "code",
      "source": [
        "from flask import Flask, redirect, url_for\n",
        "\n",
        "app = Flask(__name__)\n",
        "\n",
        "@app.route('/')\n",
        "def home():\n",
        "    # Redirect to the 'login' route\n",
        "    return redirect(url_for('login'))\n",
        "\n",
        "@app.route('/login')\n",
        "def login():\n",
        "    return \"This is the login page.\"\n",
        "\n",
        "if __name__ == '__main__':\n",
        "    app.run(debug=True)\n"
      ],
      "metadata": {
        "id": "sH7EUEdTZ9lR"
      },
      "execution_count": null,
      "outputs": []
    },
    {
      "cell_type": "markdown",
      "metadata": {
        "id": "AQsawrmjWMTj"
      },
      "source": [
        "10. How do you handle errors in Flask (e.g., 404)?**bold text**\n"
      ]
    },
    {
      "cell_type": "code",
      "source": [
        "# Python Code\n",
        "from flask import Flask, render_template\n",
        "\n",
        "app = Flask(__name__)\n",
        "\n",
        "@app.errorhandler(404)\n",
        "def page_not_found(e):\n",
        "    # Render a custom template, return 404 status code\n",
        "    return render_template('404.html'), 404\n",
        "\n",
        "@app.route('/')\n",
        "def index():\n",
        "    return \"Welcome to the homepage!\"\n",
        "\n",
        "if __name__ == '__main__':\n",
        "    app.run(debug=True)"
      ],
      "metadata": {
        "id": "4jKqzYs-dvao"
      },
      "execution_count": null,
      "outputs": []
    },
    {
      "cell_type": "markdown",
      "source": [
        "11. How do you structure a Flask app using Blueprints?\n"
      ],
      "metadata": {
        "id": "bE9inD8Xax3P"
      }
    },
    {
      "cell_type": "code",
      "source": [
        "# Python Code\n",
        "from flask import Flask, Blueprint, render_template\n",
        "\n",
        "# Define the blueprint for user-related routes\n",
        "users_bp = Blueprint('users', __name__, template_folder='templates')\n",
        "\n",
        "# Blueprint route\n",
        "@users_bp.route('/profile')\n",
        "def profile():\n",
        "    return render_template('profile.html', name=\"Alice\")\n",
        "\n",
        "def create_app():\n",
        "    app = Flask(__name__)\n",
        "\n",
        "    # Register the blueprint with a URL prefix\n",
        "    app.register_blueprint(users_bp, url_prefix='/users')\n",
        "\n",
        "    # Define a simple route on the main app\n",
        "    @app.route('/')\n",
        "    def index():\n",
        "        return \"Welcome to the Home Page! Visit /users/profile\"\n",
        "\n",
        "    return app\n",
        "\n",
        "if __name__ == '__main__':\n",
        "    app = create_app()\n",
        "    app.run(debug=True)\n"
      ],
      "metadata": {
        "id": "kh2jkrCzd5nm"
      },
      "execution_count": null,
      "outputs": []
    },
    {
      "cell_type": "code",
      "source": [],
      "metadata": {
        "id": "fTsiZYQVa2Mb"
      },
      "execution_count": null,
      "outputs": []
    },
    {
      "cell_type": "markdown",
      "source": [
        "12. How do you define a custom Jinja filter in Flask?\n"
      ],
      "metadata": {
        "id": "4oXEeiNjc3aP"
      }
    },
    {
      "cell_type": "code",
      "source": [
        "from flask import Flask, render_template\n",
        "\n",
        "app = Flask(__name__)\n",
        "\n",
        "# Define a custom Jinja filter to reverse a string\n",
        "@app.template_filter()\n",
        "def reverse_string(s):\n",
        "    return s[::-1]\n",
        "\n",
        "@app.route('/')\n",
        "def index():\n",
        "    return render_template('index.html', text=\"hello\")\n",
        "\n",
        "if __name__ == '__main__':\n",
        "    app.run(debug=True)\n"
      ],
      "metadata": {
        "id": "SUWKSvHrctAh"
      },
      "execution_count": null,
      "outputs": []
    },
    {
      "cell_type": "markdown",
      "source": [
        "13. How can you redirect with query parameters in Flask?\n",
        "\n"
      ],
      "metadata": {
        "id": "h28gxz9teKkX"
      }
    },
    {
      "cell_type": "code",
      "source": [
        "from flask import Flask, redirect, url_for, request\n",
        "\n",
        "app = Flask(__name__)\n",
        "\n",
        "@app.route('/')\n",
        "def index():\n",
        "    # Redirect to /search with query parameters? q= flask & page=2\n",
        "    return redirect(url_for('search', q='flask', page=2))\n",
        "\n",
        "@app.route('/search')\n",
        "def search():\n",
        "    # Access query parameters\n",
        "    query = request.args.get('q')\n",
        "    page = request.args.get('page')\n",
        "    return f\"Search results for query='{query}', page={page}\"\n",
        "\n",
        "if __name__ == '__main__':\n",
        "    app.run(debug=True)"
      ],
      "metadata": {
        "id": "48-HSssccssb"
      },
      "execution_count": null,
      "outputs": []
    },
    {
      "cell_type": "markdown",
      "source": [
        "14. How do you return JSON responses in Flask?\n"
      ],
      "metadata": {
        "id": "3WNuhk86ex7W"
      }
    },
    {
      "cell_type": "code",
      "source": [
        "from flask import Flask, jsonify\n",
        "\n",
        "app = Flask(__name__)\n",
        "\n",
        "@app.route('/api/data')\n",
        "def data():\n",
        "    sample_data = {\n",
        "        \"name\": \"Alice\",\n",
        "        \"age\": 30,\n",
        "        \"languages\": [\"English\", \"Spanish\", \"French\"]\n",
        "    }\n",
        "    return jsonify(sample_data)\n",
        "\n",
        "if __name__ == '__main__':\n",
        "    app.run(debug=True)"
      ],
      "metadata": {
        "id": "tyvUQ1u0e2Jd"
      },
      "execution_count": null,
      "outputs": []
    },
    {
      "cell_type": "markdown",
      "source": [
        "15. How do you capture URL parameters in Flask?\n"
      ],
      "metadata": {
        "id": "RJZ2Z-ZGfUwg"
      }
    },
    {
      "cell_type": "code",
      "source": [
        "from flask import Flask\n",
        "\n",
        "app = Flask(__name__)\n",
        "\n",
        "@app.route('/user/<username>')\n",
        "def show_user(username):\n",
        "    return f'User: {username}'\n",
        "\n",
        "@app.route('/post/<int:post_id>')\n",
        "def show_post(post_id):\n",
        "    return f'Post ID: {post_id}'\n",
        "\n",
        "if __name__ == '__main__':\n",
        "    app.run(debug=True)"
      ],
      "metadata": {
        "id": "yMvfvHxRfXzn"
      },
      "execution_count": null,
      "outputs": []
    }
  ],
  "metadata": {
    "colab": {
      "provenance": []
    },
    "kernelspec": {
      "display_name": "Python 3",
      "name": "python3"
    },
    "language_info": {
      "name": "python"
    }
  },
  "nbformat": 4,
  "nbformat_minor": 0
}